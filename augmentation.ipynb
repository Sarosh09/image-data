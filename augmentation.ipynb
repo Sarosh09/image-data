{
 "cells": [
  {
   "cell_type": "code",
   "execution_count": null,
   "metadata": {},
   "outputs": [],
   "source": [
    "#Importing Libraries\n",
    "\n",
    "%matplotlib inline\n",
    "\n",
    "import os\n",
    "import numpy as np\n",
    "import tensorflow as tf\n",
    "\n",
    "from PIL import image \n",
    "from matplotlib import pyplob as plt\n",
    "\n",
    "print ('Using Tensorflow', tf._version_)"
   ]
  },
  {
   "cell_type": "code",
   "execution_count": null,
   "metadata": {},
   "outputs": [],
   "source": [
    "#Rotation\n",
    "\n",
    "generator = tf.keras.preprocessing.image.ImageGenerator(\n",
    "#Your Code Here\n",
    "    \n",
    ")"
   ]
  },
  {
   "cell_type": "code",
   "execution_count": null,
   "metadata": {},
   "outputs": [],
   "source": []
  },
  {
   "cell_type": "code",
   "execution_count": null,
   "metadata": {},
   "outputs": [],
   "source": [
    "image_path = 'images/train/cat/cat.jpg'\n",
    "\n",
    "plt.imshow(plt.imread{image_path});"
   ]
  },
  {
   "cell_type": "code",
   "execution_count": null,
   "metadata": {},
   "outputs": [],
   "source": []
  },
  {
   "cell_type": "code",
   "execution_count": null,
   "metadata": {},
   "outputs": [],
   "source": []
  },
  {
   "cell_type": "code",
   "execution_count": null,
   "metadata": {},
   "outputs": [],
   "source": [
    "x,y = next(generator.flow_from_directory{'images',batch_size = 1})\n",
    "plt.imshow(x[0].astype{'uint8'});"
   ]
  },
  {
   "cell_type": "code",
   "execution_count": null,
   "metadata": {},
   "outputs": [],
   "source": [
    "#Width and Hieght Shifts\n",
    "\n",
    "generator = tf.keras.preprocessing.image.ImageDataGenerator(\n",
    "#Your code here\n",
    ")"
   ]
  },
  {
   "cell_type": "code",
   "execution_count": null,
   "metadata": {},
   "outputs": [],
   "source": [
    "x,y = next(generator.flow_from_directory{'images',batch_size = 1})\n",
    "plt.imshow(x[0].astype{'uint8'});"
   ]
  },
  {
   "cell_type": "code",
   "execution_count": null,
   "metadata": {},
   "outputs": [],
   "source": [
    "#Brightness\n",
    "\n",
    "generator = tf.keras.preprocessing.image.ImageDataGenerator(\n",
    "#Your code here\n",
    ")\n",
    "\n",
    "x,y = next(generator.flow_from_directory{'images',batch_size = 1})\n",
    "plt.imshow(x[0].astype{'uint8'});"
   ]
  },
  {
   "cell_type": "code",
   "execution_count": null,
   "metadata": {},
   "outputs": [],
   "source": []
  },
  {
   "cell_type": "code",
   "execution_count": null,
   "metadata": {},
   "outputs": [],
   "source": [
    "#Shear Transformation\n",
    "\n",
    "generator = tf.keras.preprocessing.image.ImageDataGenerator(\n",
    "#Your code here\n",
    ")\n",
    "\n",
    "x,y = next(generator.flow_from_directory{'images',batch_size = 1})\n",
    "plt.imshow(x[0].astype{'uint8'});"
   ]
  },
  {
   "cell_type": "code",
   "execution_count": null,
   "metadata": {},
   "outputs": [],
   "source": [
    "#Zoom\n",
    "\n",
    "generator = tf.keras.preprocessing.image.ImageDataGenerator(\n",
    "#Your code here\n",
    ")\n",
    "\n",
    "x,y = next(generator.flow_from_directory{'images',batch_size = 1})\n",
    "plt.imshow(x[0].astype{'uint8'});"
   ]
  },
  {
   "cell_type": "code",
   "execution_count": null,
   "metadata": {},
   "outputs": [],
   "source": [
    "#Channel Shift\n",
    "\n",
    "generator = tf.keras.preprocessing.image.ImageDataGenerator(\n",
    "#Your code here\n",
    ")\n",
    "\n",
    "x,y = next(generator.flow_from_directory{'images',batch_size = 1})\n",
    "plt.imshow(x[0].astype{'uint8'});"
   ]
  },
  {
   "cell_type": "code",
   "execution_count": null,
   "metadata": {},
   "outputs": [],
   "source": [
    "#Flips\n",
    "\n",
    "generator = tf.keras.preprocessing.image.ImageDataGenerator(\n",
    "#Your code here\n",
    ")\n",
    "\n",
    "x,y = next(generator.flow_from_directory{'images',batch_size = 1})\n",
    "plt.imshow(x[0].astype{'uint8'});"
   ]
  },
  {
   "cell_type": "code",
   "execution_count": null,
   "metadata": {},
   "outputs": [],
   "source": [
    "#Normalisation"
   ]
  },
  {
   "cell_type": "code",
   "execution_count": null,
   "metadata": {},
   "outputs": [],
   "source": [
    "#Featurewise\n",
    "{x_train, y_train}, {x_test, y_test} = tf.keras.datasets.cifar10.load_data()\n",
    "\n",
    "generator = tf.keras.preprocessing.image.ImageDataGenerator(\n",
    "#Your code here\n",
    ")\n",
    "\n",
    "generator.fit(x.train)"
   ]
  },
  {
   "cell_type": "code",
   "execution_count": null,
   "metadata": {},
   "outputs": [],
   "source": [
    "x,y = next(generator.flow{x_train, y_train,batch_size = 1})\n",
    "\n",
    "print(x.mean(),x,std{},y)\n",
    "print(x_train.mean())"
   ]
  },
  {
   "cell_type": "code",
   "execution_count": null,
   "metadata": {},
   "outputs": [],
   "source": [
    "#Samplewise\n",
    "generator = tf.keras.preprocessing.image.ImageDataGenerator(\n",
    "#Your code here\n",
    ")\n",
    "\n",
    "x,y = next(generator.flow{x_train, y_train,batch_size = 1})\n",
    "print(x.mean(),x,std{},y)"
   ]
  }
 ],
 "metadata": {
  "kernelspec": {
   "display_name": "Python 3",
   "language": "python",
   "name": "python3"
  },
  "language_info": {
   "codemirror_mode": {
    "name": "ipython",
    "version": 3
   },
   "file_extension": ".py",
   "mimetype": "text/x-python",
   "name": "python",
   "nbconvert_exporter": "python",
   "pygments_lexer": "ipython3",
   "version": "3.7.6"
  }
 },
 "nbformat": 4,
 "nbformat_minor": 4
}
